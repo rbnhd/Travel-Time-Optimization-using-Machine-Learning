{
 "cells": [
  {
   "cell_type": "code",
   "execution_count": 1,
   "metadata": {},
   "outputs": [],
   "source": [
    "import pandas as pd\n",
    "import numpy as np\n",
    "import xgboost as xgb\n",
    "\n",
    "import pickle\n",
    "from geopy.geocoders import Nominatim\n",
    "from sklearn.model_selection import train_test_split\n",
    "\n",
    "pd.set_option('display.max_columns', None)"
   ]
  },
  {
   "cell_type": "markdown",
   "metadata": {},
   "source": [
    "# Import data and take a look at it"
   ]
  },
  {
   "cell_type": "code",
   "execution_count": 2,
   "metadata": {
    "scrolled": true
   },
   "outputs": [],
   "source": [
    "sample_df = pd.read_csv(\"train.csv\")"
   ]
  },
  {
   "cell_type": "code",
   "execution_count": 3,
   "metadata": {
    "scrolled": false
   },
   "outputs": [
    {
     "data": {
      "text/plain": [
       "(1458644, 11)"
      ]
     },
     "execution_count": 3,
     "metadata": {},
     "output_type": "execute_result"
    }
   ],
   "source": [
    "sample_df.shape"
   ]
  },
  {
   "cell_type": "code",
   "execution_count": 4,
   "metadata": {
    "scrolled": false
   },
   "outputs": [
    {
     "data": {
      "text/html": [
       "<div>\n",
       "<style scoped>\n",
       "    .dataframe tbody tr th:only-of-type {\n",
       "        vertical-align: middle;\n",
       "    }\n",
       "\n",
       "    .dataframe tbody tr th {\n",
       "        vertical-align: top;\n",
       "    }\n",
       "\n",
       "    .dataframe thead th {\n",
       "        text-align: right;\n",
       "    }\n",
       "</style>\n",
       "<table border=\"1\" class=\"dataframe\">\n",
       "  <thead>\n",
       "    <tr style=\"text-align: right;\">\n",
       "      <th></th>\n",
       "      <th>id</th>\n",
       "      <th>vendor_id</th>\n",
       "      <th>pickup_datetime</th>\n",
       "      <th>dropoff_datetime</th>\n",
       "      <th>passenger_count</th>\n",
       "      <th>pickup_longitude</th>\n",
       "      <th>pickup_latitude</th>\n",
       "      <th>dropoff_longitude</th>\n",
       "      <th>dropoff_latitude</th>\n",
       "      <th>store_and_fwd_flag</th>\n",
       "      <th>trip_duration</th>\n",
       "    </tr>\n",
       "  </thead>\n",
       "  <tbody>\n",
       "    <tr>\n",
       "      <th>0</th>\n",
       "      <td>id2875421</td>\n",
       "      <td>2</td>\n",
       "      <td>2016-03-14 17:24:55</td>\n",
       "      <td>2016-03-14 17:32:30</td>\n",
       "      <td>1</td>\n",
       "      <td>-73.982155</td>\n",
       "      <td>40.767937</td>\n",
       "      <td>-73.964630</td>\n",
       "      <td>40.765602</td>\n",
       "      <td>N</td>\n",
       "      <td>455</td>\n",
       "    </tr>\n",
       "    <tr>\n",
       "      <th>1</th>\n",
       "      <td>id2377394</td>\n",
       "      <td>1</td>\n",
       "      <td>2016-06-12 00:43:35</td>\n",
       "      <td>2016-06-12 00:54:38</td>\n",
       "      <td>1</td>\n",
       "      <td>-73.980415</td>\n",
       "      <td>40.738564</td>\n",
       "      <td>-73.999481</td>\n",
       "      <td>40.731152</td>\n",
       "      <td>N</td>\n",
       "      <td>663</td>\n",
       "    </tr>\n",
       "    <tr>\n",
       "      <th>2</th>\n",
       "      <td>id3858529</td>\n",
       "      <td>2</td>\n",
       "      <td>2016-01-19 11:35:24</td>\n",
       "      <td>2016-01-19 12:10:48</td>\n",
       "      <td>1</td>\n",
       "      <td>-73.979027</td>\n",
       "      <td>40.763939</td>\n",
       "      <td>-74.005333</td>\n",
       "      <td>40.710087</td>\n",
       "      <td>N</td>\n",
       "      <td>2124</td>\n",
       "    </tr>\n",
       "    <tr>\n",
       "      <th>3</th>\n",
       "      <td>id3504673</td>\n",
       "      <td>2</td>\n",
       "      <td>2016-04-06 19:32:31</td>\n",
       "      <td>2016-04-06 19:39:40</td>\n",
       "      <td>1</td>\n",
       "      <td>-74.010040</td>\n",
       "      <td>40.719971</td>\n",
       "      <td>-74.012268</td>\n",
       "      <td>40.706718</td>\n",
       "      <td>N</td>\n",
       "      <td>429</td>\n",
       "    </tr>\n",
       "    <tr>\n",
       "      <th>4</th>\n",
       "      <td>id2181028</td>\n",
       "      <td>2</td>\n",
       "      <td>2016-03-26 13:30:55</td>\n",
       "      <td>2016-03-26 13:38:10</td>\n",
       "      <td>1</td>\n",
       "      <td>-73.973053</td>\n",
       "      <td>40.793209</td>\n",
       "      <td>-73.972923</td>\n",
       "      <td>40.782520</td>\n",
       "      <td>N</td>\n",
       "      <td>435</td>\n",
       "    </tr>\n",
       "  </tbody>\n",
       "</table>\n",
       "</div>"
      ],
      "text/plain": [
       "          id  vendor_id      pickup_datetime     dropoff_datetime  \\\n",
       "0  id2875421          2  2016-03-14 17:24:55  2016-03-14 17:32:30   \n",
       "1  id2377394          1  2016-06-12 00:43:35  2016-06-12 00:54:38   \n",
       "2  id3858529          2  2016-01-19 11:35:24  2016-01-19 12:10:48   \n",
       "3  id3504673          2  2016-04-06 19:32:31  2016-04-06 19:39:40   \n",
       "4  id2181028          2  2016-03-26 13:30:55  2016-03-26 13:38:10   \n",
       "\n",
       "   passenger_count  pickup_longitude  pickup_latitude  dropoff_longitude  \\\n",
       "0                1        -73.982155        40.767937         -73.964630   \n",
       "1                1        -73.980415        40.738564         -73.999481   \n",
       "2                1        -73.979027        40.763939         -74.005333   \n",
       "3                1        -74.010040        40.719971         -74.012268   \n",
       "4                1        -73.973053        40.793209         -73.972923   \n",
       "\n",
       "   dropoff_latitude store_and_fwd_flag  trip_duration  \n",
       "0         40.765602                  N            455  \n",
       "1         40.731152                  N            663  \n",
       "2         40.710087                  N           2124  \n",
       "3         40.706718                  N            429  \n",
       "4         40.782520                  N            435  "
      ]
     },
     "execution_count": 4,
     "metadata": {},
     "output_type": "execute_result"
    }
   ],
   "source": [
    "sample_df.head()"
   ]
  },
  {
   "cell_type": "markdown",
   "metadata": {},
   "source": [
    "# Data Preprocessing"
   ]
  },
  {
   "cell_type": "code",
   "execution_count": 5,
   "metadata": {
    "scrolled": true
   },
   "outputs": [
    {
     "data": {
      "text/plain": [
       "N    1450599\n",
       "Y       8045\n",
       "Name: store_and_fwd_flag, dtype: int64"
      ]
     },
     "execution_count": 5,
     "metadata": {},
     "output_type": "execute_result"
    }
   ],
   "source": [
    "sample_df[\"store_and_fwd_flag\"].value_counts()"
   ]
  },
  {
   "cell_type": "code",
   "execution_count": 6,
   "metadata": {},
   "outputs": [],
   "source": [
    "#Convert character variables to numeric \n",
    "f = lambda x: 0 if x == 'N' else 1\n",
    "\n",
    "sample_df[\"store_and_fwd_flag\"] = sample_df[\"store_and_fwd_flag\"].apply(lambda x: f(x))            "
   ]
  },
  {
   "cell_type": "code",
   "execution_count": 7,
   "metadata": {},
   "outputs": [
    {
     "data": {
      "text/plain": [
       "0    1450599\n",
       "1       8045\n",
       "Name: store_and_fwd_flag, dtype: int64"
      ]
     },
     "execution_count": 7,
     "metadata": {},
     "output_type": "execute_result"
    }
   ],
   "source": [
    "#Check result\n",
    "sample_df[\"store_and_fwd_flag\"].value_counts()"
   ]
  },
  {
   "cell_type": "markdown",
   "metadata": {},
   "source": [
    "## Engineer features"
   ]
  },
  {
   "cell_type": "code",
   "execution_count": 8,
   "metadata": {},
   "outputs": [],
   "source": [
    "#First, convert datetime strings into datetime\n",
    "sample_df[\"dropoff_datetime\"] = pd.to_datetime(sample_df[\"dropoff_datetime\"], format='%Y-%m-%d %H:%M:%S')\n",
    "sample_df[\"pickup_datetime\"] = pd.to_datetime(sample_df[\"pickup_datetime\"], format='%Y-%m-%d %H:%M:%S')"
   ]
  },
  {
   "cell_type": "code",
   "execution_count": 9,
   "metadata": {},
   "outputs": [],
   "source": [
    "#Now construct other variables, like month, date, etc.\n",
    "sample_df[\"pickup_month\"] = sample_df[\"pickup_datetime\"].dt.month\n",
    "sample_df[\"pickup_day\"] = sample_df[\"pickup_datetime\"].dt.day\n",
    "sample_df[\"pickup_weekday\"] = sample_df[\"pickup_datetime\"].dt.weekday #sample_df[\"pickup_weekday\"] = sample_df[\"pickup_datetime\"].dt.weekday_name\n",
    "sample_df[\"pickup_hour\"] = sample_df[\"pickup_datetime\"].dt.hour\n",
    "sample_df[\"pickup_minute\"] = sample_df[\"pickup_datetime\"].dt.minute"
   ]
  },
  {
   "cell_type": "code",
   "execution_count": 10,
   "metadata": {},
   "outputs": [],
   "source": [
    "#Get latitude and longitude differences \n",
    "sample_df[\"latitude_difference\"] = sample_df[\"dropoff_latitude\"] - sample_df[\"pickup_latitude\"]\n",
    "sample_df[\"longitude_difference\"] = sample_df[\"dropoff_longitude\"] - sample_df[\"pickup_longitude\"]"
   ]
  },
  {
   "cell_type": "code",
   "execution_count": 11,
   "metadata": {},
   "outputs": [],
   "source": [
    "#Convert duration to minutes for easier interpretation\n",
    "sample_df[\"trip_duration\"] = sample_df[\"trip_duration\"].apply(lambda x: round(x/60))   "
   ]
  },
  {
   "cell_type": "code",
   "execution_count": 12,
   "metadata": {},
   "outputs": [],
   "source": [
    "#Convert trip distance from longitude and latitude differences to Manhattan distance.\n",
    "sample_df[\"trip_distance\"] = 0.621371 * 6371 * (abs(2 * np.arctan2(np.sqrt(np.square(np.sin((abs(sample_df[\"latitude_difference\"]) * np.pi / 180) / 2))), \n",
    "                                  np.sqrt(1-(np.square(np.sin((abs(sample_df[\"latitude_difference\"]) * np.pi / 180) / 2)))))) + \\\n",
    "                                     abs(2 * np.arctan2(np.sqrt(np.square(np.sin((abs(sample_df[\"longitude_difference\"]) * np.pi / 180) / 2))), \n",
    "                                  np.sqrt(1-(np.square(np.sin((abs(sample_df[\"longitude_difference\"]) * np.pi / 180) / 2)))))))"
   ]
  },
  {
   "cell_type": "code",
   "execution_count": 13,
   "metadata": {
    "scrolled": false
   },
   "outputs": [
    {
     "data": {
      "text/html": [
       "<div>\n",
       "<style scoped>\n",
       "    .dataframe tbody tr th:only-of-type {\n",
       "        vertical-align: middle;\n",
       "    }\n",
       "\n",
       "    .dataframe tbody tr th {\n",
       "        vertical-align: top;\n",
       "    }\n",
       "\n",
       "    .dataframe thead th {\n",
       "        text-align: right;\n",
       "    }\n",
       "</style>\n",
       "<table border=\"1\" class=\"dataframe\">\n",
       "  <thead>\n",
       "    <tr style=\"text-align: right;\">\n",
       "      <th></th>\n",
       "      <th>id</th>\n",
       "      <th>vendor_id</th>\n",
       "      <th>pickup_datetime</th>\n",
       "      <th>dropoff_datetime</th>\n",
       "      <th>passenger_count</th>\n",
       "      <th>pickup_longitude</th>\n",
       "      <th>pickup_latitude</th>\n",
       "      <th>dropoff_longitude</th>\n",
       "      <th>dropoff_latitude</th>\n",
       "      <th>store_and_fwd_flag</th>\n",
       "      <th>trip_duration</th>\n",
       "      <th>pickup_month</th>\n",
       "      <th>pickup_day</th>\n",
       "      <th>pickup_weekday</th>\n",
       "      <th>pickup_hour</th>\n",
       "      <th>pickup_minute</th>\n",
       "      <th>latitude_difference</th>\n",
       "      <th>longitude_difference</th>\n",
       "      <th>trip_distance</th>\n",
       "    </tr>\n",
       "  </thead>\n",
       "  <tbody>\n",
       "    <tr>\n",
       "      <th>0</th>\n",
       "      <td>id2875421</td>\n",
       "      <td>2</td>\n",
       "      <td>2016-03-14 17:24:55</td>\n",
       "      <td>2016-03-14 17:32:30</td>\n",
       "      <td>1</td>\n",
       "      <td>-73.982155</td>\n",
       "      <td>40.767937</td>\n",
       "      <td>-73.964630</td>\n",
       "      <td>40.765602</td>\n",
       "      <td>0</td>\n",
       "      <td>8</td>\n",
       "      <td>3</td>\n",
       "      <td>14</td>\n",
       "      <td>0</td>\n",
       "      <td>17</td>\n",
       "      <td>24</td>\n",
       "      <td>-0.002335</td>\n",
       "      <td>0.017525</td>\n",
       "      <td>1.372146</td>\n",
       "    </tr>\n",
       "    <tr>\n",
       "      <th>1</th>\n",
       "      <td>id2377394</td>\n",
       "      <td>1</td>\n",
       "      <td>2016-06-12 00:43:35</td>\n",
       "      <td>2016-06-12 00:54:38</td>\n",
       "      <td>1</td>\n",
       "      <td>-73.980415</td>\n",
       "      <td>40.738564</td>\n",
       "      <td>-73.999481</td>\n",
       "      <td>40.731152</td>\n",
       "      <td>0</td>\n",
       "      <td>11</td>\n",
       "      <td>6</td>\n",
       "      <td>12</td>\n",
       "      <td>6</td>\n",
       "      <td>0</td>\n",
       "      <td>43</td>\n",
       "      <td>-0.007412</td>\n",
       "      <td>-0.019066</td>\n",
       "      <td>1.829440</td>\n",
       "    </tr>\n",
       "    <tr>\n",
       "      <th>2</th>\n",
       "      <td>id3858529</td>\n",
       "      <td>2</td>\n",
       "      <td>2016-01-19 11:35:24</td>\n",
       "      <td>2016-01-19 12:10:48</td>\n",
       "      <td>1</td>\n",
       "      <td>-73.979027</td>\n",
       "      <td>40.763939</td>\n",
       "      <td>-74.005333</td>\n",
       "      <td>40.710087</td>\n",
       "      <td>0</td>\n",
       "      <td>35</td>\n",
       "      <td>1</td>\n",
       "      <td>19</td>\n",
       "      <td>1</td>\n",
       "      <td>11</td>\n",
       "      <td>35</td>\n",
       "      <td>-0.053852</td>\n",
       "      <td>-0.026306</td>\n",
       "      <td>5.538397</td>\n",
       "    </tr>\n",
       "    <tr>\n",
       "      <th>3</th>\n",
       "      <td>id3504673</td>\n",
       "      <td>2</td>\n",
       "      <td>2016-04-06 19:32:31</td>\n",
       "      <td>2016-04-06 19:39:40</td>\n",
       "      <td>1</td>\n",
       "      <td>-74.010040</td>\n",
       "      <td>40.719971</td>\n",
       "      <td>-74.012268</td>\n",
       "      <td>40.706718</td>\n",
       "      <td>0</td>\n",
       "      <td>7</td>\n",
       "      <td>4</td>\n",
       "      <td>6</td>\n",
       "      <td>2</td>\n",
       "      <td>19</td>\n",
       "      <td>32</td>\n",
       "      <td>-0.013252</td>\n",
       "      <td>-0.002228</td>\n",
       "      <td>1.069567</td>\n",
       "    </tr>\n",
       "    <tr>\n",
       "      <th>4</th>\n",
       "      <td>id2181028</td>\n",
       "      <td>2</td>\n",
       "      <td>2016-03-26 13:30:55</td>\n",
       "      <td>2016-03-26 13:38:10</td>\n",
       "      <td>1</td>\n",
       "      <td>-73.973053</td>\n",
       "      <td>40.793209</td>\n",
       "      <td>-73.972923</td>\n",
       "      <td>40.782520</td>\n",
       "      <td>0</td>\n",
       "      <td>7</td>\n",
       "      <td>3</td>\n",
       "      <td>26</td>\n",
       "      <td>5</td>\n",
       "      <td>13</td>\n",
       "      <td>30</td>\n",
       "      <td>-0.010689</td>\n",
       "      <td>0.000130</td>\n",
       "      <td>0.747485</td>\n",
       "    </tr>\n",
       "  </tbody>\n",
       "</table>\n",
       "</div>"
      ],
      "text/plain": [
       "          id  vendor_id     pickup_datetime    dropoff_datetime  \\\n",
       "0  id2875421          2 2016-03-14 17:24:55 2016-03-14 17:32:30   \n",
       "1  id2377394          1 2016-06-12 00:43:35 2016-06-12 00:54:38   \n",
       "2  id3858529          2 2016-01-19 11:35:24 2016-01-19 12:10:48   \n",
       "3  id3504673          2 2016-04-06 19:32:31 2016-04-06 19:39:40   \n",
       "4  id2181028          2 2016-03-26 13:30:55 2016-03-26 13:38:10   \n",
       "\n",
       "   passenger_count  pickup_longitude  pickup_latitude  dropoff_longitude  \\\n",
       "0                1        -73.982155        40.767937         -73.964630   \n",
       "1                1        -73.980415        40.738564         -73.999481   \n",
       "2                1        -73.979027        40.763939         -74.005333   \n",
       "3                1        -74.010040        40.719971         -74.012268   \n",
       "4                1        -73.973053        40.793209         -73.972923   \n",
       "\n",
       "   dropoff_latitude  store_and_fwd_flag  trip_duration  pickup_month  \\\n",
       "0         40.765602                   0              8             3   \n",
       "1         40.731152                   0             11             6   \n",
       "2         40.710087                   0             35             1   \n",
       "3         40.706718                   0              7             4   \n",
       "4         40.782520                   0              7             3   \n",
       "\n",
       "   pickup_day  pickup_weekday  pickup_hour  pickup_minute  \\\n",
       "0          14               0           17             24   \n",
       "1          12               6            0             43   \n",
       "2          19               1           11             35   \n",
       "3           6               2           19             32   \n",
       "4          26               5           13             30   \n",
       "\n",
       "   latitude_difference  longitude_difference  trip_distance  \n",
       "0            -0.002335              0.017525       1.372146  \n",
       "1            -0.007412             -0.019066       1.829440  \n",
       "2            -0.053852             -0.026306       5.538397  \n",
       "3            -0.013252             -0.002228       1.069567  \n",
       "4            -0.010689              0.000130       0.747485  "
      ]
     },
     "execution_count": 13,
     "metadata": {},
     "output_type": "execute_result"
    }
   ],
   "source": [
    "sample_df.head(5)"
   ]
  },
  {
   "cell_type": "markdown",
   "metadata": {},
   "source": [
    "# Modeling"
   ]
  },
  {
   "cell_type": "code",
   "execution_count": 14,
   "metadata": {},
   "outputs": [],
   "source": [
    "X = sample_df.drop([\"trip_duration\", \"id\", \"vendor_id\", \"pickup_datetime\", \"dropoff_datetime\"], axis=1)\n",
    "y = sample_df[\"trip_duration\"]"
   ]
  },
  {
   "cell_type": "code",
   "execution_count": 15,
   "metadata": {},
   "outputs": [],
   "source": [
    "#Split the data into training, test, and valdiation sets\n",
    "X_train, X_test, y_train, y_test = train_test_split(X, y, test_size=0.3, random_state=2018)\n",
    "X_train, X_val, y_train, y_val = train_test_split(X_train, y_train, test_size=0.25, random_state=2019)"
   ]
  },
  {
   "cell_type": "code",
   "execution_count": 16,
   "metadata": {},
   "outputs": [],
   "source": [
    "#Define evaluation metric\n",
    "def rmsle(y_true, y_pred):\n",
    "    assert len(y_true) == len(y_pred)\n",
    "    return np.square(np.log(y_pred + 1) - np.log(y_true + 1)).mean() ** 0.5"
   ]
  },
  {
   "cell_type": "code",
   "execution_count": 17,
   "metadata": {},
   "outputs": [],
   "source": [
    "#XGBoost parameters \n",
    "params = {\n",
    "    'booster':            'gbtree',\n",
    "    'objective':          'reg:linear',\n",
    "    'learning_rate':      0.05,\n",
    "    'max_depth':          14,\n",
    "    'subsample':          0.9,\n",
    "    'colsample_bytree':   0.7,\n",
    "    'colsample_bylevel':  0.7,\n",
    "    'silent':             1,\n",
    "    'feval':              'rmsle'\n",
    "}"
   ]
  },
  {
   "cell_type": "code",
   "execution_count": 18,
   "metadata": {},
   "outputs": [],
   "source": [
    "nrounds = 100"
   ]
  },
  {
   "cell_type": "code",
   "execution_count": 19,
   "metadata": {},
   "outputs": [
    {
     "name": "stderr",
     "output_type": "stream",
     "text": [
      "C:\\ProgramData\\Anaconda3\\lib\\site-packages\\xgboost\\core.py:587: FutureWarning: Series.base is deprecated and will be removed in a future version\n",
      "  if getattr(data, 'base', None) is not None and \\\n"
     ]
    }
   ],
   "source": [
    "#Define train and validation sets\n",
    "dtrain = xgb.DMatrix(X_train, np.log(y_train+1))\n",
    "dval = xgb.DMatrix(X_val, np.log(y_val+1))\n",
    "\n",
    "#this is for tracking the error\n",
    "watchlist = [(dval, 'eval'), (dtrain, 'train')]"
   ]
  },
  {
   "cell_type": "code",
   "execution_count": 20,
   "metadata": {
    "scrolled": true
   },
   "outputs": [
    {
     "name": "stdout",
     "output_type": "stream",
     "text": [
      "[0]\teval-rmse:2.00792\ttrain-rmse:2.00719\n",
      "[1]\teval-rmse:1.91382\ttrain-rmse:1.91311\n",
      "[2]\teval-rmse:1.8224\ttrain-rmse:1.82168\n",
      "[3]\teval-rmse:1.73565\ttrain-rmse:1.73494\n",
      "[4]\teval-rmse:1.65361\ttrain-rmse:1.6529\n",
      "[5]\teval-rmse:1.57611\ttrain-rmse:1.57537\n",
      "[6]\teval-rmse:1.50257\ttrain-rmse:1.50187\n",
      "[7]\teval-rmse:1.43242\ttrain-rmse:1.43161\n",
      "[8]\teval-rmse:1.36599\ttrain-rmse:1.36503\n",
      "[9]\teval-rmse:1.30343\ttrain-rmse:1.30228\n",
      "[10]\teval-rmse:1.24574\ttrain-rmse:1.24448\n",
      "[11]\teval-rmse:1.18978\ttrain-rmse:1.18838\n",
      "[12]\teval-rmse:1.13651\ttrain-rmse:1.13492\n",
      "[13]\teval-rmse:1.08712\ttrain-rmse:1.08539\n",
      "[14]\teval-rmse:1.0393\ttrain-rmse:1.03723\n",
      "[15]\teval-rmse:0.994321\ttrain-rmse:0.992096\n",
      "[16]\teval-rmse:0.951949\ttrain-rmse:0.949308\n",
      "[17]\teval-rmse:0.912967\ttrain-rmse:0.910011\n",
      "[18]\teval-rmse:0.874896\ttrain-rmse:0.871427\n",
      "[19]\teval-rmse:0.839136\ttrain-rmse:0.835382\n",
      "[20]\teval-rmse:0.805418\ttrain-rmse:0.801181\n",
      "[21]\teval-rmse:0.773897\ttrain-rmse:0.768992\n",
      "[22]\teval-rmse:0.745076\ttrain-rmse:0.739719\n",
      "[23]\teval-rmse:0.71703\ttrain-rmse:0.711\n",
      "[24]\teval-rmse:0.690659\ttrain-rmse:0.683907\n",
      "[25]\teval-rmse:0.665798\ttrain-rmse:0.658527\n",
      "[26]\teval-rmse:0.643085\ttrain-rmse:0.635242\n",
      "[27]\teval-rmse:0.621164\ttrain-rmse:0.612581\n",
      "[28]\teval-rmse:0.601466\ttrain-rmse:0.592259\n",
      "[29]\teval-rmse:0.58235\ttrain-rmse:0.572553\n",
      "[30]\teval-rmse:0.564944\ttrain-rmse:0.554479\n",
      "[31]\teval-rmse:0.548286\ttrain-rmse:0.536712\n",
      "[32]\teval-rmse:0.532795\ttrain-rmse:0.520457\n",
      "[33]\teval-rmse:0.518308\ttrain-rmse:0.505289\n",
      "[34]\teval-rmse:0.504796\ttrain-rmse:0.491045\n",
      "[35]\teval-rmse:0.492203\ttrain-rmse:0.477523\n",
      "[36]\teval-rmse:0.480778\ttrain-rmse:0.464941\n",
      "[37]\teval-rmse:0.470038\ttrain-rmse:0.4534\n",
      "[38]\teval-rmse:0.460333\ttrain-rmse:0.442938\n",
      "[39]\teval-rmse:0.451252\ttrain-rmse:0.433007\n",
      "[40]\teval-rmse:0.442578\ttrain-rmse:0.423263\n",
      "[41]\teval-rmse:0.43451\ttrain-rmse:0.413901\n",
      "[42]\teval-rmse:0.427188\ttrain-rmse:0.405745\n",
      "[43]\teval-rmse:0.420455\ttrain-rmse:0.398187\n",
      "[44]\teval-rmse:0.414319\ttrain-rmse:0.390822\n",
      "[45]\teval-rmse:0.408598\ttrain-rmse:0.384192\n",
      "[46]\teval-rmse:0.403338\ttrain-rmse:0.378115\n",
      "[47]\teval-rmse:0.398517\ttrain-rmse:0.372512\n",
      "[48]\teval-rmse:0.39405\ttrain-rmse:0.367124\n",
      "[49]\teval-rmse:0.390013\ttrain-rmse:0.36214\n",
      "[50]\teval-rmse:0.386213\ttrain-rmse:0.357458\n",
      "[51]\teval-rmse:0.382585\ttrain-rmse:0.352541\n",
      "[52]\teval-rmse:0.379488\ttrain-rmse:0.348622\n",
      "[53]\teval-rmse:0.376495\ttrain-rmse:0.344806\n",
      "[54]\teval-rmse:0.373927\ttrain-rmse:0.341003\n",
      "[55]\teval-rmse:0.371245\ttrain-rmse:0.337181\n",
      "[56]\teval-rmse:0.368864\ttrain-rmse:0.333932\n",
      "[57]\teval-rmse:0.366621\ttrain-rmse:0.330852\n",
      "[58]\teval-rmse:0.364515\ttrain-rmse:0.327654\n",
      "[59]\teval-rmse:0.362548\ttrain-rmse:0.324538\n",
      "[60]\teval-rmse:0.360787\ttrain-rmse:0.322016\n",
      "[61]\teval-rmse:0.359251\ttrain-rmse:0.319661\n",
      "[62]\teval-rmse:0.357855\ttrain-rmse:0.317455\n",
      "[63]\teval-rmse:0.356515\ttrain-rmse:0.315184\n",
      "[64]\teval-rmse:0.355293\ttrain-rmse:0.31284\n",
      "[65]\teval-rmse:0.354167\ttrain-rmse:0.31046\n",
      "[66]\teval-rmse:0.353183\ttrain-rmse:0.308625\n",
      "[67]\teval-rmse:0.352233\ttrain-rmse:0.306565\n",
      "[68]\teval-rmse:0.351345\ttrain-rmse:0.304977\n",
      "[69]\teval-rmse:0.350632\ttrain-rmse:0.303613\n",
      "[70]\teval-rmse:0.349871\ttrain-rmse:0.302109\n",
      "[71]\teval-rmse:0.349106\ttrain-rmse:0.300844\n",
      "[72]\teval-rmse:0.348393\ttrain-rmse:0.299208\n",
      "[73]\teval-rmse:0.347702\ttrain-rmse:0.297595\n",
      "[74]\teval-rmse:0.347197\ttrain-rmse:0.296255\n",
      "[75]\teval-rmse:0.346603\ttrain-rmse:0.295078\n",
      "[76]\teval-rmse:0.346154\ttrain-rmse:0.293991\n",
      "[77]\teval-rmse:0.345542\ttrain-rmse:0.292433\n",
      "[78]\teval-rmse:0.345088\ttrain-rmse:0.291398\n",
      "[79]\teval-rmse:0.344688\ttrain-rmse:0.290312\n",
      "[80]\teval-rmse:0.344333\ttrain-rmse:0.289217\n",
      "[81]\teval-rmse:0.343875\ttrain-rmse:0.288073\n",
      "[82]\teval-rmse:0.343518\ttrain-rmse:0.287039\n",
      "[83]\teval-rmse:0.343314\ttrain-rmse:0.28625\n",
      "[84]\teval-rmse:0.343016\ttrain-rmse:0.28523\n",
      "[85]\teval-rmse:0.342687\ttrain-rmse:0.284327\n",
      "[86]\teval-rmse:0.342249\ttrain-rmse:0.283031\n",
      "[87]\teval-rmse:0.341888\ttrain-rmse:0.281852\n",
      "[88]\teval-rmse:0.341632\ttrain-rmse:0.280874\n",
      "[89]\teval-rmse:0.341365\ttrain-rmse:0.280027\n",
      "[90]\teval-rmse:0.341103\ttrain-rmse:0.278994\n",
      "[91]\teval-rmse:0.340849\ttrain-rmse:0.278042\n",
      "[92]\teval-rmse:0.340639\ttrain-rmse:0.277341\n",
      "[93]\teval-rmse:0.340477\ttrain-rmse:0.276679\n",
      "[94]\teval-rmse:0.340338\ttrain-rmse:0.275842\n",
      "[95]\teval-rmse:0.340181\ttrain-rmse:0.275018\n",
      "[96]\teval-rmse:0.339961\ttrain-rmse:0.273998\n",
      "[97]\teval-rmse:0.339777\ttrain-rmse:0.273135\n",
      "[98]\teval-rmse:0.33961\ttrain-rmse:0.27231\n",
      "[99]\teval-rmse:0.339479\ttrain-rmse:0.271249\n"
     ]
    }
   ],
   "source": [
    "#Train model\n",
    "gbm = xgb.train(params,\n",
    "                dtrain,\n",
    "                num_boost_round = nrounds,\n",
    "                evals = watchlist,\n",
    "                verbose_eval = True\n",
    "                )"
   ]
  },
  {
   "cell_type": "code",
   "execution_count": 21,
   "metadata": {},
   "outputs": [],
   "source": [
    "#Test predictions\n",
    "pred = np.exp(gbm.predict(xgb.DMatrix(X_test))) - 1"
   ]
  },
  {
   "cell_type": "code",
   "execution_count": 22,
   "metadata": {},
   "outputs": [
    {
     "data": {
      "text/plain": [
       "4.977627277374268"
      ]
     },
     "execution_count": 22,
     "metadata": {},
     "output_type": "execute_result"
    }
   ],
   "source": [
    "#Use mean absolute error to get a basic estimate of the error\n",
    "mae = (abs(pred - y_test)).mean()\n",
    "mae"
   ]
  },
  {
   "cell_type": "code",
   "execution_count": 23,
   "metadata": {},
   "outputs": [
    {
     "data": {
      "text/plain": [
       "{'latitude_difference': 50336,\n",
       " 'dropoff_latitude': 76171,\n",
       " 'pickup_weekday': 20997,\n",
       " 'pickup_longitude': 86783,\n",
       " 'pickup_month': 16832,\n",
       " 'pickup_day': 37404,\n",
       " 'pickup_minute': 39579,\n",
       " 'passenger_count': 23732,\n",
       " 'store_and_fwd_flag': 987,\n",
       " 'longitude_difference': 63027,\n",
       " 'pickup_hour': 34406,\n",
       " 'dropoff_longitude': 71331,\n",
       " 'trip_distance': 61390,\n",
       " 'pickup_latitude': 77005}"
      ]
     },
     "execution_count": 23,
     "metadata": {},
     "output_type": "execute_result"
    }
   ],
   "source": [
    "#Take a look at feature importance\n",
    "feature_scores = gbm.get_fscore()\n",
    "feature_scores"
   ]
  },
  {
   "cell_type": "code",
   "execution_count": 24,
   "metadata": {},
   "outputs": [
    {
     "data": {
      "text/plain": [
       "{'latitude_difference': 0.07626897784781357,\n",
       " 'dropoff_latitude': 0.11541410345768054,\n",
       " 'pickup_weekday': 0.03181460044243765,\n",
       " 'pickup_longitude': 0.13149337858722993,\n",
       " 'pickup_month': 0.025503803145549866,\n",
       " 'pickup_day': 0.05667444468014182,\n",
       " 'pickup_minute': 0.05996999909088154,\n",
       " 'passenger_count': 0.03595866541410346,\n",
       " 'store_and_fwd_flag': 0.0014954998636322312,\n",
       " 'longitude_difference': 0.09549834843480105,\n",
       " 'pickup_hour': 0.052131882784326795,\n",
       " 'dropoff_longitude': 0.10808054789539077,\n",
       " 'trip_distance': 0.09301797024152247,\n",
       " 'pickup_latitude': 0.11667777811448832}"
      ]
     },
     "execution_count": 24,
     "metadata": {},
     "output_type": "execute_result"
    }
   ],
   "source": [
    "#This is not very telling, so let's scale the features\n",
    "summ = 0\n",
    "for key in feature_scores:\n",
    "    summ = summ + feature_scores[key]\n",
    "\n",
    "for key in feature_scores:\n",
    "    feature_scores[key] = feature_scores[key] / summ\n",
    "\n",
    "feature_scores"
   ]
  },
  {
   "cell_type": "markdown",
   "metadata": {},
   "source": [
    "# Save the model"
   ]
  },
  {
   "cell_type": "code",
   "execution_count": 25,
   "metadata": {},
   "outputs": [],
   "source": [
    "filename = \"xgb_model.sav\"\n",
    "pickle.dump(gbm, open(filename, 'wb'))"
   ]
  },
  {
   "cell_type": "code",
   "execution_count": null,
   "metadata": {},
   "outputs": [],
   "source": []
  }
 ],
 "metadata": {
  "kernelspec": {
   "display_name": "Python 3",
   "language": "python",
   "name": "python3"
  },
  "language_info": {
   "codemirror_mode": {
    "name": "ipython",
    "version": 3
   },
   "file_extension": ".py",
   "mimetype": "text/x-python",
   "name": "python",
   "nbconvert_exporter": "python",
   "pygments_lexer": "ipython3",
   "version": "3.7.0"
  }
 },
 "nbformat": 4,
 "nbformat_minor": 2
}
